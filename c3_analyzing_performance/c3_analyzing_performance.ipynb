{
 "cells": [
  {
   "cell_type": "markdown",
   "id": "f53d26b9-7505-433b-9361-e497c1ddccac",
   "metadata": {},
   "source": [
    "# Analyzing Performance\n",
    "\n",
    "## Using Linux built-in performance measurement tools\n",
    "\n",
    "One of the most prolific tools (as you may have read in the textbook) is the `time` ([man page](https://man7.org/linux/man-pages/man1/time.1.html)) tool built into Linux and BSD (amongst other operating systems), usually located at `/usr/bin/time`.  To run `/usr/bin/time`, simply just add it on the same line where you call `python` or your compiled program at the beginning of the line in your `%%qsub` cells.  \n",
    "\n",
    "Note that it will print, by default: the CPU usage by the program code (user), the CPU usage by the system (system), the Wall time (elapsed), the percentage of CPU used, and different information about the RAM usage.\n",
    "\n",
    "You can customize it yourself by feeding the `--format=\"...\"` parameters, by replacing the ellipsis with a printf-style format string.\n",
    "\n",
    "For instance, if we want to time the program `sleep 5`, with the format string `\"real %e system %S cpu %P avg_ram_kb %K\"`, our line would look like:\n",
    "\n",
    "`/usr/bin/time --format=\"real %e system %S cpu %P avg_ram_kb %K\" sleep 5`\n",
    "\n",
    "**NOTE**: The output from this tool will appear in the error buffer instead (`STDIN.eNNNNNN`), so make sure you look for through both the standard output and the standard error files.  Make sure to look through the `STDIN.oNNNNN` file too, so that you have the job number and can know which run was with which parameters.\n",
    "\n",
    "Try using this tool on your code in the following cells!"
   ]
  },
  {
   "cell_type": "code",
   "execution_count": 1,
   "id": "ebfc0905-512b-4f42-b01e-4b7d06f617a7",
   "metadata": {},
   "outputs": [],
   "source": [
    "import time\n",
    "import matplotlib.pyplot as plt\n",
    "import numpy as np"
   ]
  },
  {
   "cell_type": "code",
   "execution_count": 6,
   "id": "2670c142-97e2-4336-b9b6-12532014c02a",
   "metadata": {},
   "outputs": [
    {
     "name": "stdout",
     "output_type": "stream",
     "text": [
      "Current time: Wed May 18 19:23:55 2022\n",
      "0\n",
      "1652927035.1664615 = Time in seconds\n",
      "Current time: Wed May 18 19:24:00 2022\n",
      "1\n",
      "1652927040.1718235 = Time in seconds\n",
      "Current time: Wed May 18 19:24:05 2022\n",
      "2\n",
      "1652927045.1771023 = Time in seconds\n",
      "Current time: Wed May 18 19:24:10 2022\n",
      "3\n",
      "1652927050.182407 = Time in seconds\n",
      "Current time: Wed May 18 19:24:15 2022\n",
      "4\n",
      "1652927055.1877706 = Time in seconds\n",
      "Current time: Wed May 18 19:24:20 2022\n",
      "5\n",
      "1652927060.1930957 = Time in seconds\n",
      "Current time: Wed May 18 19:24:25 2022\n",
      "6\n",
      "1652927065.1983733 = Time in seconds\n"
     ]
    }
   ],
   "source": [
    "for z in range(7):\n",
    "    time.sleep(5)\n",
    "    \n",
    "    Current = time.time()\n",
    "    Now = time.ctime()\n",
    "    print(\"Current time:\", Now)\n",
    "    print(z)\n",
    "    print(Current, \"= Time in seconds\")\n",
    "    # Print current time in seconds"
   ]
  },
  {
   "cell_type": "code",
   "execution_count": 7,
   "id": "215f2695-e0f6-4037-a826-6ad4b9328214",
   "metadata": {},
   "outputs": [
    {
     "name": "stdout",
     "output_type": "stream",
     "text": [
      "0.5\n",
      "scpustats(ctx_switches=849699515884, interrupts=14179796481, soft_interrupts=11554556505, syscalls=0)\n",
      "scpufreq(current=1.2163333333333328, min=1200.0, max=3700.0)\n"
     ]
    }
   ],
   "source": [
    "import psutil\n",
    "\n",
    "print(psutil.cpu_percent())\n",
    "print(psutil.cpu_stats())\n",
    "print(psutil.cpu_freq())\n",
    "# Print percent of CPU Usage, statistic about the system memory, and frequency of the CPU."
   ]
  },
  {
   "cell_type": "markdown",
   "id": "625ad6c1-5c94-41d4-9cc8-1772a5a332b7",
   "metadata": {},
   "source": [
    "## Collecting run data\n",
    "\n",
    "To make sure that we have adequate data, make sure to submit at least 10 different variations of your code, such as the following example variations (based on the Monte Carlo example):\n",
    "\n",
    "1. Run with draw number size 10000000 and 2 workers\n",
    "1. Run with draw number size 10000000 and 4 workers\n",
    "1. Run with draw number size 10000000 and 6 workers\n",
    "1. Run with draw number size 10000000 and 8 workers\n",
    "1. Run with draw number size 10000000 and 10 workers\n",
    "1. Run with draw number size 10000000 and 12 workers\n",
    "1. Run with draw number size 10000000 and 14 workers\n",
    "1. Run with draw number size 10000000 and 16 workers\n",
    "1. Run with draw number size 100000000 and 8 workers\n",
    "1. Run with draw number size 100000000 and 16 workers\n",
    "1. Run with draw number size 1000000000 and 8 workers\n",
    "1. Run with draw number size 1000000000 and 16 workers\n",
    "1. Run with draw number size 10000000000 and 8 workers\n",
    "1. Run with draw number size 10000000000 and 16 workers\n",
    "\n",
    "Now, go ahead and use the two cells below to run your job for different variations (you can either programmatically run the variations or just manually run each variation here and just note the data down)."
   ]
  },
  {
   "cell_type": "code",
   "execution_count": 1,
   "id": "e1270352-f5ba-48dd-816f-2d1fce8a5454",
   "metadata": {},
   "outputs": [],
   "source": [
    "import cfxmagic"
   ]
  },
  {
   "cell_type": "code",
   "execution_count": 2,
   "id": "2cf334b8-79a1-4f79-8060-b1dbbee340c7",
   "metadata": {},
   "outputs": [
    {
     "name": "stdout",
     "output_type": "stream",
     "text": [
      "Job ID                    Name             User            Time Use S Queue\n",
      "------------------------- ---------------- --------------- -------- - -----\n",
      "1909505.v-qsvr-1           ...ub-singleuser u134923         00:00:33 R jupyterhub     \n"
     ]
    }
   ],
   "source": [
    "!qstat"
   ]
  },
  {
   "cell_type": "markdown",
   "id": "97fea7a7-3a31-40c4-8350-c64820b4a9e3",
   "metadata": {},
   "source": [
    "We can also submit to different types of machines.  The Intel(R) Core(tm) processors differ in specifications from the Intel(R) Xeon(tm) processors.  To switch between the Intel Core nodes and the Intel Xeon nodes, simply just call `qsub` with different node properties as shown:"
   ]
  },
  {
   "cell_type": "code",
   "execution_count": 3,
   "id": "6963f7ee-d184-4cfa-9b3d-45ac3dadc4c3",
   "metadata": {},
   "outputs": [
    {
     "name": "stdout",
     "output_type": "stream",
     "text": [
      "1909637.v-qsvr-1.aidevcloud\n",
      "\n"
     ]
    }
   ],
   "source": [
    "%%qsub -l nodes=1:core:ppn=2\n",
    "cd $PBS_O_WORKDIR\n",
    "/usr/bin/time python ParallelCode.py"
   ]
  },
  {
   "cell_type": "code",
   "execution_count": 4,
   "id": "97046ca7-2500-4d75-a127-c432316f8cbc",
   "metadata": {},
   "outputs": [
    {
     "name": "stdout",
     "output_type": "stream",
     "text": [
      "1909638.v-qsvr-1.aidevcloud\n",
      "\n"
     ]
    }
   ],
   "source": [
    "%%qsub -l nodes=1:xeon:ppn=2\n",
    "cd $PBS_O_WORKDIR\n",
    "/usr/bin/time python ParallelCode.py"
   ]
  },
  {
   "cell_type": "markdown",
   "id": "44d583d4-0a3d-421a-9d39-fc8fdbd91d08",
   "metadata": {},
   "source": [
    "## Generating plots\n",
    "\n",
    "We would like to generate plots using the data we collected above.  Optimally, we'd generate data files that we could just simply import and plot, but for this time, it's okay to just create lists of data manually as this isn't really a class on data analysis.\n",
    "\n",
    "A nice video explaining plotting in Jupyter notebooks is available at: https://www.youtube.com/watch?v=Hr4yh1_4GlQ\n",
    "\n",
    "Practice by plotting the number of workers (or another variable, such as data draw size) against a response (such as wall time, cpu time, memory usage, etc.):"
   ]
  },
  {
   "cell_type": "code",
   "execution_count": 5,
   "id": "50e641b4-3460-456b-bda3-bc6b93215795",
   "metadata": {},
   "outputs": [],
   "source": [
    "import numpy as np\n",
    "import matplotlib.pyplot as plt"
   ]
  },
  {
   "cell_type": "code",
   "execution_count": 22,
   "id": "498b8bac-d50e-4024-b002-60cf5c86d43f",
   "metadata": {},
   "outputs": [
    {
     "data": {
      "image/png": "[encoded data removed]",
      "text/plain": [
       "<Figure size 432x288 with 1 Axes>"
      ]
     },
     "metadata": {
      "needs_background": "light"
     },
     "output_type": "display_data"
    }
   ],
   "source": [
    "x1 = [1,1,1,1,1,1,1,1,10,10,100,100,1000,1000]\n",
    "y1 = [2,4,6,8,10,12,14,16,8,16,8,16,8,16]\n",
    "plt.plot(x1, y1, marker = 'o', markerfacecolor = 'green', markersize=7, label = 'Number Size on # Workers')\n",
    "\n",
    "plt.xlabel('x - Number Sizes * 10 million')\n",
    "plt.ylabel('y - Workers')\n",
    "plt.ylim(1.5,16.5)\n",
    "plt.title('Analyzing Performance')\n",
    "plt.legend(loc = 'best', fontsize = 12)\n",
    "plt.grid()"
   ]
  },
  {
   "cell_type": "code",
   "execution_count": null,
   "id": "b86774e4-a9e7-4a17-b5e9-631d4d72f97b",
   "metadata": {},
   "outputs": [],
   "source": []
  },
  {
   "cell_type": "markdown",
   "id": "d17fb8c5-00a3-4812-8309-8b8a14b9c8c6",
   "metadata": {
    "tags": []
   },
   "source": [
    "## Presenting data/plots inline with Markdown text\n",
    "\n",
    "Now that you have your data and know how to plot your data, create Markdown and code cells below to answer the following questions in report format (incorporating the code cells to generate plots):\n",
    "\n",
    "1. What software application did you choose to attempt to parallelize or augment?\n",
    "2. How did you parallelize or augment your chosen software application?\n",
    "3. How did the throughput or latency of your software application change as you increased the number of resources (workers, CPUs, etc.)?\n",
    "4. Were there any differences between the Linux system performance measurement tools and your language-based measurement tools?  What may be the cause of that?\n",
    "5. What would you change if you were to attempt this project again?"
   ]
  },
  {
   "cell_type": "code",
   "execution_count": 8,
   "id": "f7937dee-383e-40ee-ae4e-4b38f68c37a4",
   "metadata": {},
   "outputs": [
    {
     "name": "stdout",
     "output_type": "stream",
     "text": [
      "Markdown Test\n",
      "Kelvin Duong\n",
      "2022-05-17\n"
     ]
    }
   ],
   "source": [
    "import datetime\n",
    "x1 = \"Markdown Test\"\n",
    "author = \"Kelvin Duong\"\n",
    "date = datetime.date.today()\n",
    "\n",
    "x= x1.title()\n",
    "\n",
    "print(x)\n",
    "print(author)\n",
    "print(date)"
   ]
  },
  {
   "cell_type": "markdown",
   "id": "fa6299c0-2cb5-448a-8614-dac3d677df6c",
   "metadata": {},
   "source": [
    "1. What software application did you choose to attempt to parallelize or augment?\n",
    "\n",
    "Answer: The application I use to parallelized the program is C++ Compiler and Visual Studio Code, while using Jupyter Notebook to augment the various code cell in this same program."
   ]
  },
  {
   "cell_type": "markdown",
   "id": "1f4833a4-1ac5-455b-9645-b831455f2235",
   "metadata": {},
   "source": [
    "2. How did you parallelize or augment your chosen software application?\n",
    "\n",
    "Answer: For parallelize, I run multiple tests through Visual Studio Code, Command Terminal, and probably Jupyter as well, and make it run parallelly in different processors/times.  For augment, I just simply edit or adjust the code cell to match with the program I want to run in."
   ]
  },
  {
   "cell_type": "markdown",
   "id": "677d221c-1552-4b30-9477-43c76047f9ab",
   "metadata": {},
   "source": [
    "3. How did the throughput or latency of your software application change as you increased the number of resources (workers, CPUs, etc.)?\n",
    "\n",
    "Answer: The throughput is increase by changing the hardware setting (horizontal scaling), or increasing the capacity and performance of the existing hardware I running the application within Linux, or other(vertical scaling)."
   ]
  },
  {
   "cell_type": "markdown",
   "id": "7b5c59e1-30d8-4935-9731-a17a6b49049d",
   "metadata": {},
   "source": [
    "4. Were there any differences between the Linux system performance measurement tools and your language-based measurement tools? What may be the cause of that?\n",
    "\n",
    "Answer: The Linux is an open source operating system. An operating system is the software that directly manages a system's hardware and resources, like CPU, memory, storage, and etc. The operating system is between the applications and hardware, and makes the connections between all of the software and the physical resources that do the work.  While in the language programs like Task Manager and Performance Monitor for Windows-based systems during this project are for Unix-based systems."
   ]
  },
  {
   "cell_type": "markdown",
   "id": "651102c1-66cf-47cc-83a7-655f33fb4e54",
   "metadata": {},
   "source": [
    "5. What would you change if you were to attempt this project again?\n",
    "\n",
    "Answer:  I would some additional information on various topics/tasks as well a clearer explanations on various important keywords and tasks."
   ]
  },
  {
   "cell_type": "markdown",
   "id": "90ba2a4d-e22d-4aef-b1f9-68f9546841bd",
   "metadata": {},
   "source": [
    "## Including Plots\n",
    "This is the plot design I created, previous task."
   ]
  },
  {
   "cell_type": "code",
   "execution_count": 1,
   "id": "d1d3f7fa-c318-46f6-ab73-d797b5b6ba6b",
   "metadata": {},
   "outputs": [],
   "source": [
    "import numpy as np\n",
    "import matplotlib.pyplot as plt"
   ]
  },
  {
   "cell_type": "code",
   "execution_count": 2,
   "id": "9d900917-f49b-400c-8161-3f9681edab02",
   "metadata": {},
   "outputs": [
    {
     "data": {
      "image/png": "[encoded data removed]",
      "text/plain": [
       "<Figure size 432x288 with 1 Axes>"
      ]
     },
     "metadata": {
      "needs_background": "light"
     },
     "output_type": "display_data"
    }
   ],
   "source": [
    "x1 = [1,1,1,1,1,1,1,1,10,10,100,100,1000,1000]\n",
    "y1 = [2,4,6,8,10,12,14,16,8,16,8,16,8,16]\n",
    "plt.plot(x1, y1, marker = 'o', markerfacecolor = 'green', markersize=7, label = 'Number Size on # Workers')\n",
    "\n",
    "plt.xlabel('x - Number Sizes * 10 million')\n",
    "plt.ylabel('y - Workers')\n",
    "plt.ylim(1.5,16.5)\n",
    "plt.title('Analyzing Performance')\n",
    "plt.legend(loc = 'best', fontsize = 12)\n",
    "plt.grid()"
   ]
  }
 ],
 "metadata": {
  "kernelspec": {
   "display_name": "Python 3.8 (Intel® oneAPI)",
   "language": "python",
   "name": "c009-intel_distribution_of_python_3_oneapi-beta05-python"
  },
  "language_info": {
   "codemirror_mode": {
    "name": "ipython",
    "version": 3
   },
   "file_extension": ".py",
   "mimetype": "text/x-python",
   "name": "python",
   "nbconvert_exporter": "python",
   "pygments_lexer": "ipython3",
   "version": "3.9.10"
  },
  "toc-autonumbering": true
 },
 "nbformat": 4,
 "nbformat_minor": 5
}
